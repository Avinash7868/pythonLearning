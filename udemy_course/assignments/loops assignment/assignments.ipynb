{
 "cells": [
  {
   "cell_type": "markdown",
   "metadata": {},
   "source": [
    "# Module 2: Control Flow Assignments\n",
    "## Lesson 2.1: Conditional Statements\n",
    "### Assignment 1: Simple if Statement\n",
    "\n",
    "Write a program that asks the user to input a number and prints whether the number is positive.\n"
   ]
  },
  {
   "cell_type": "code",
   "execution_count": null,
   "id": "9a04c06c",
   "metadata": {},
   "outputs": [
    {
     "name": "stdout",
     "output_type": "stream",
     "text": [
      "the 32 is positive\n"
     ]
    }
   ],
   "source": [
    "n = int(input(\"Enter the number\"))\n",
    "if(n>0):\n",
    "    print(f\"the {n} is positive\")\n",
    "else:\n",
    "    print(f\"the number {n} is negative\")\n",
    "\n",
    "    "
   ]
  },
  {
   "cell_type": "markdown",
   "id": "2ecf4b85",
   "metadata": {},
   "source": [
    "\n",
    "### Assignment 2: if-else Statement\n",
    "\n",
    "Write a program that asks the user to input a number and prints whether the number is positive or negative.\n"
   ]
  },
  {
   "cell_type": "code",
   "execution_count": 3,
   "id": "c273abbc",
   "metadata": {},
   "outputs": [
    {
     "name": "stdout",
     "output_type": "stream",
     "text": [
      "the 32 is positive\n"
     ]
    }
   ],
   "source": [
    "n = int(input(\"Enter the number\"))\n",
    "if(n>0):\n",
    "    print(f\"the {n} is positive\")\n",
    "else:\n",
    "    print(f\"the number {n} is negative\")\n",
    "\n",
    "    "
   ]
  },
  {
   "cell_type": "markdown",
   "id": "ff141f71",
   "metadata": {},
   "source": [
    "\n",
    "### Assignment 3: if-elif-else Statement\n",
    "\n",
    "Write a program that asks the user to input a number and prints whether the number is positive, negative, or zero.\n"
   ]
  },
  {
   "cell_type": "code",
   "execution_count": 7,
   "id": "9366fab1",
   "metadata": {},
   "outputs": [
    {
     "name": "stdout",
     "output_type": "stream",
     "text": [
      "the number -2 is negative\n"
     ]
    }
   ],
   "source": [
    "n=int(input(\"enter the number\"))\n",
    "if(n>=1):\n",
    "    print(f\"the number {n} is positive\")\n",
    "elif(n==0):\n",
    "    print(f\"the number {n} is neutral\")\n",
    "else:\n",
    "    print(f'the number {n} is negative')\n",
    "    "
   ]
  },
  {
   "cell_type": "markdown",
   "id": "0c6d540d",
   "metadata": {},
   "source": [
    "\n",
    "### Assignment 4: Nested if Statement\n",
    "\n",
    "Write a program that asks the user to input a number and prints whether the number is positive and even, positive and odd, or negative.\n"
   ]
  },
  {
   "cell_type": "code",
   "execution_count": 8,
   "id": "78f3bc11",
   "metadata": {},
   "outputs": [
    {
     "name": "stdout",
     "output_type": "stream",
     "text": [
      " the number 21.0 is positive and odd\n"
     ]
    }
   ],
   "source": [
    "n = float(input(\"Enter the number\"))\n",
    "if(n>0):\n",
    "    if n % 2 == 0 :\n",
    "        print(f\"the number {n} is positive and even\")\n",
    "    else:\n",
    "        print(f\" the number {n} is positive and odd\")\n",
    "else:\n",
    "    print(f\"the number {n} is negative\")"
   ]
  },
  {
   "cell_type": "markdown",
   "id": "3aaa8663",
   "metadata": {},
   "source": [
    "\n",
    "## Lesson 2.2: Loops\n",
    "### Assignment 5: for Loop\n",
    "\n",
    "Write a program that prints all the numbers from 1 to 10 using a for loop.\n"
   ]
  },
  {
   "cell_type": "code",
   "execution_count": 9,
   "id": "c9dead7f",
   "metadata": {},
   "outputs": [
    {
     "name": "stdout",
     "output_type": "stream",
     "text": [
      "1\n",
      "2\n",
      "3\n",
      "4\n",
      "5\n",
      "6\n",
      "7\n",
      "8\n",
      "9\n",
      "10\n"
     ]
    }
   ],
   "source": [
    "for i in range(1,11):\n",
    "    print(i)"
   ]
  },
  {
   "cell_type": "markdown",
   "id": "64f76500",
   "metadata": {},
   "source": [
    "\n",
    "### Assignment 6: while Loop\n",
    "\n",
    "Write a program that prints all the numbers from 1 to 10 using a while loop.\n"
   ]
  },
  {
   "cell_type": "code",
   "execution_count": 12,
   "id": "1a3494e8",
   "metadata": {},
   "outputs": [
    {
     "name": "stdout",
     "output_type": "stream",
     "text": [
      "0\n",
      "1\n",
      "2\n",
      "3\n",
      "4\n",
      "5\n",
      "6\n",
      "7\n",
      "8\n",
      "9\n",
      "10\n"
     ]
    }
   ],
   "source": [
    "i=0\n",
    "while i<11:\n",
    "    print(i)\n",
    "    i += 1"
   ]
  },
  {
   "cell_type": "markdown",
   "id": "b16c6d98",
   "metadata": {},
   "source": [
    "\n",
    "### Assignment 7: Nested Loops\n",
    "\n",
    "Write a program that prints a 5x5 grid of asterisks (*) using nested loops.\n"
   ]
  },
  {
   "cell_type": "code",
   "execution_count": 21,
   "id": "72459889",
   "metadata": {},
   "outputs": [
    {
     "name": "stdout",
     "output_type": "stream",
     "text": [
      "* * * * * \n",
      "* * * * * \n",
      "* * * * * \n",
      "* * * * * \n",
      "* * * * * \n"
     ]
    }
   ],
   "source": [
    "for x in range(1,6):\n",
    "    for y in range(1,6):\n",
    "        print(\"*\",end=\" \")\n",
    "    print(\"\")\n"
   ]
  },
  {
   "cell_type": "markdown",
   "id": "af071c01",
   "metadata": {},
   "source": [
    "\n",
    "### Assignment 8: break Statement\n",
    "\n",
    "Write a program that asks the user to input numbers until they input 0. The program should print the sum of all the input numbers.\n"
   ]
  },
  {
   "cell_type": "code",
   "execution_count": 23,
   "id": "c1303cb9",
   "metadata": {},
   "outputs": [
    {
     "name": "stdout",
     "output_type": "stream",
     "text": [
      "the total sum of input numbers are 141.0\n"
     ]
    }
   ],
   "source": [
    "total_sum=0\n",
    "while True:\n",
    "    n = float(input(\"Enter the number\"))\n",
    "    if(n==0):\n",
    "        print(\"the total sum of input numbers are\",total_sum)\n",
    "        break\n",
    "    else:\n",
    "        total_sum += n"
   ]
  },
  {
   "cell_type": "markdown",
   "id": "2f475ced",
   "metadata": {},
   "source": [
    "\n",
    "### Assignment 9: continue Statement\n",
    "\n",
    "Write a program that prints all the numbers from 1 to 10 except 5 using a for loop and continue statement.\n"
   ]
  },
  {
   "cell_type": "code",
   "execution_count": 24,
   "id": "7548b02f",
   "metadata": {},
   "outputs": [
    {
     "name": "stdout",
     "output_type": "stream",
     "text": [
      "1\n",
      "2\n",
      "3\n",
      "4\n",
      "6\n",
      "7\n",
      "8\n",
      "9\n",
      "10\n"
     ]
    }
   ],
   "source": [
    "for i in range(1,11):\n",
    "    if i==5:\n",
    "        continue\n",
    "    print(i)"
   ]
  },
  {
   "cell_type": "markdown",
   "id": "f862eec2",
   "metadata": {},
   "source": [
    "\n",
    "### Assignment 10: pass Statement\n",
    "\n",
    "Write a program that defines an empty function using the pass statement.\n"
   ]
  },
  {
   "cell_type": "code",
   "execution_count": 26,
   "id": "6158b1fb",
   "metadata": {},
   "outputs": [],
   "source": [
    "def test_function():\n",
    "    pass\n",
    "test_function()"
   ]
  },
  {
   "cell_type": "markdown",
   "id": "de5bd086",
   "metadata": {},
   "source": [
    "\n",
    "### Assignment 11: Combining Loops and Conditionals\n",
    "\n",
    "Write a program that asks the user to input a number and prints all the even numbers from 1 to that number using a for loop.\n"
   ]
  },
  {
   "cell_type": "code",
   "execution_count": 27,
   "id": "dc0425c8",
   "metadata": {},
   "outputs": [
    {
     "name": "stdout",
     "output_type": "stream",
     "text": [
      "the 2 is even number\n",
      "the 4 is even number\n",
      "the 6 is even number\n",
      "the 8 is even number\n",
      "the 10 is even number\n",
      "the 12 is even number\n",
      "the 14 is even number\n",
      "the 16 is even number\n",
      "the 18 is even number\n",
      "the 20 is even number\n",
      "the 22 is even number\n",
      "the 24 is even number\n",
      "the 26 is even number\n",
      "the 28 is even number\n",
      "the 30 is even number\n",
      "the 32 is even number\n"
     ]
    }
   ],
   "source": [
    "n = int(input(\"Enter the number\"))\n",
    "for x in range(1,n+1):\n",
    "    if x%2 == 0 :\n",
    "        print(f'the {x} is even number')\n",
    "    continue"
   ]
  },
  {
   "cell_type": "markdown",
   "id": "eba22fb2",
   "metadata": {},
   "source": [
    "\n",
    "### Assignment 12: Factorial Calculation\n",
    "\n",
    "Write a program that calculates the factorial of a number input by the user using a while loop.\n"
   ]
  },
  {
   "cell_type": "code",
   "execution_count": 32,
   "id": "141af80d",
   "metadata": {},
   "outputs": [
    {
     "name": "stdout",
     "output_type": "stream",
     "text": [
      "the factorial of 22 is 1124000727777607680000\n"
     ]
    }
   ],
   "source": [
    "n=int(input(\"Enter the number\"))\n",
    "total_sum=0\n",
    "def factorial_calculation(number):\n",
    "    if(number == 0):\n",
    "        return 1\n",
    "    return number * factorial_calculation(number -1)\n",
    "total_sum = factorial_calculation(n)\n",
    "print(f\"the factorial of {n} is {total_sum}\")"
   ]
  },
  {
   "cell_type": "markdown",
   "id": "4fe24d10",
   "metadata": {},
   "source": [
    "\n",
    "### Assignment 13: Sum of Digits\n",
    "\n",
    "Write a program that calculates the sum of the digits of a number input by the user using a while loop.\n"
   ]
  },
  {
   "cell_type": "code",
   "execution_count": 38,
   "id": "d68d5d41",
   "metadata": {},
   "outputs": [
    {
     "name": "stdout",
     "output_type": "stream",
     "text": [
      "the sum of the digits is 13\n"
     ]
    }
   ],
   "source": [
    "n=int(input(\"Enter the number\"))\n",
    "sum_of_digits=0\n",
    "i=0\n",
    "while i<n:\n",
    "    digit = n % 10\n",
    "    sum_of_digits += digit\n",
    "    n  = n // 10\n",
    "print(f\"the sum of the digits is {sum_of_digits}\")"
   ]
  },
  {
   "cell_type": "markdown",
   "id": "db22d0dd",
   "metadata": {},
   "source": [
    "\n",
    "### Assignment 14: Prime Number Check\n",
    "\n",
    "Write a program that checks if a number input by the user is a prime number using a for loop.\n"
   ]
  },
  {
   "cell_type": "code",
   "execution_count": 50,
   "id": "cea6cf18",
   "metadata": {},
   "outputs": [
    {
     "name": "stdout",
     "output_type": "stream",
     "text": [
      "the given number 22 is not a prime number\n"
     ]
    }
   ],
   "source": [
    "n = int(input(\"Enter the number\"))\n",
    "if n <=1:\n",
    "    print(f'{n} is not a prime number')\n",
    "else:\n",
    "    # 1st way\n",
    "    # for x in range(2, n):\n",
    "    #     if n % x == 0:\n",
    "    #         print(f\"the given number {n} is not a prime number\")\n",
    "    #         break \n",
    "    # 2nd way using sqare root\n",
    "    for x in range(2,int(n **0.5) +1):\n",
    "        if n % x == 0:\n",
    "            print(f\"the given number {n} is not a prime number\")\n",
    "            break\n",
    "    else:\n",
    "        print(f\"the given number {n} is the prime nubmer\")\n"
   ]
  },
  {
   "cell_type": "markdown",
   "id": "043cbafd",
   "metadata": {},
   "source": [
    "\n",
    "### Assignment 15: Fibonacci Sequence\n",
    "\n",
    "Write a program that prints the first n Fibonacci numbers, where n is input by the user."
   ]
  },
  {
   "cell_type": "code",
   "execution_count": 60,
   "id": "0fb827fa",
   "metadata": {},
   "outputs": [
    {
     "name": "stdout",
     "output_type": "stream",
     "text": [
      "0\n",
      "1\n",
      "1\n",
      "2\n",
      "3\n",
      "0\n",
      "1\n",
      "1\n",
      "2\n",
      "3\n"
     ]
    }
   ],
   "source": [
    "n = int(input(\"Enter the number\"))\n",
    "a = 0\n",
    "b= 1\n",
    "for x in range(1,n +1):\n",
    "    print(a)\n",
    "    temp = b\n",
    "    b = a+b\n",
    "    a  = temp\n",
    "   \n",
    "\n",
    "n = int(input(\"Enter the number of Fibonacci numbers to print: \"))\n",
    "a, b = 0, 1\n",
    "count = 0\n",
    "while count < n:\n",
    "    print(a)\n",
    "    a, b = b, a + b\n",
    "    count += 1"
   ]
  },
  {
   "cell_type": "code",
   "execution_count": null,
   "id": "9c61ac96",
   "metadata": {},
   "outputs": [],
   "source": []
  }
 ],
 "metadata": {
  "kernelspec": {
   "display_name": "Python 3",
   "language": "python",
   "name": "python3"
  },
  "language_info": {
   "codemirror_mode": {
    "name": "ipython",
    "version": 3
   },
   "file_extension": ".py",
   "mimetype": "text/x-python",
   "name": "python",
   "nbconvert_exporter": "python",
   "pygments_lexer": "ipython3",
   "version": "3.12.0"
  }
 },
 "nbformat": 4,
 "nbformat_minor": 5
}
