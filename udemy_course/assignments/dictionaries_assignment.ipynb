{
 "cells": [
  {
   "cell_type": "markdown",
   "metadata": {},
   "source": [
    "# Module 3: Data Structures Assignments\n",
    "## Lesson 3.4: Dictionaries\n",
    "### Assignment 1: Creating and Accessing Dictionaries\n",
    "\n",
    "Create a dictionary with the first 10 positive integers as keys and their squares as values. Print the dictionary.\n"
   ]
  },
  {
   "cell_type": "code",
   "execution_count": 2,
   "id": "9631db23",
   "metadata": {},
   "outputs": [
    {
     "name": "stdout",
     "output_type": "stream",
     "text": [
      "{1: 1, 2: 4, 3: 9, 4: 16, 5: 25, 6: 36, 7: 49, 8: 64, 9: 81, 10: 100}\n"
     ]
    }
   ],
   "source": [
    "d1 = {i:i**2 for i in range(1,11)}\n",
    "print(d1)\n"
   ]
  },
  {
   "cell_type": "markdown",
   "id": "7654de15",
   "metadata": {},
   "source": [
    "\n",
    "### Assignment 2: Accessing Dictionary Elements\n",
    "\n",
    "Print the value of the key 5 and the keys of the dictionary created in Assignment 1.\n"
   ]
  },
  {
   "cell_type": "code",
   "execution_count": 7,
   "id": "5fdb7c6f",
   "metadata": {},
   "outputs": [
    {
     "name": "stdout",
     "output_type": "stream",
     "text": [
      "25\n",
      "1\n",
      "2\n",
      "3\n",
      "4\n",
      "5\n",
      "6\n",
      "7\n",
      "8\n",
      "9\n",
      "10\n",
      "[1, 2, 3, 4, 5, 6, 7, 8, 9, 10]\n",
      "dict_keys([1, 2, 3, 4, 5, 6, 7, 8, 9, 10])\n"
     ]
    }
   ],
   "source": [
    "print(d1[5])\n",
    "for i in d1:\n",
    "    print(i)\n",
    "print(list(d1.keys()))\n",
    "print(d1.keys())\n"
   ]
  },
  {
   "cell_type": "markdown",
   "id": "5a85dd1b",
   "metadata": {},
   "source": [
    "\n",
    "### Assignment 3: Dictionary Methods\n",
    "\n",
    "Add a new key-value pair (11, 121) to the dictionary created in Assignment 1 and then remove the key-value pair with key 1. Print the modified dictionary.\n"
   ]
  },
  {
   "cell_type": "code",
   "execution_count": 9,
   "id": "a2f5ec20",
   "metadata": {},
   "outputs": [
    {
     "name": "stdout",
     "output_type": "stream",
     "text": [
      "{1: 1, 2: 4, 3: 9, 4: 16, 5: 25, 6: 36, 7: 49, 8: 64, 9: 81, 10: 100, 11: 121}\n",
      "{2: 4, 3: 9, 4: 16, 5: 25, 6: 36, 7: 49, 8: 64, 9: 81, 10: 100, 11: 121}\n"
     ]
    }
   ],
   "source": [
    "d1[11] = 121\n",
    "print(d1)\n",
    "d1.pop(1)\n",
    "print(d1)"
   ]
  },
  {
   "cell_type": "markdown",
   "id": "5e60b50b",
   "metadata": {},
   "source": [
    "\n",
    "### Assignment 4: Iterating Over Dictionaries\n",
    "\n",
    "Iterate over the dictionary created in Assignment 1 and print each key-value pair.\n"
   ]
  },
  {
   "cell_type": "code",
   "execution_count": 17,
   "id": "26e565f2",
   "metadata": {},
   "outputs": [
    {
     "name": "stdout",
     "output_type": "stream",
     "text": [
      "the key is 2 the value is 4\n",
      "the key is 3 the value is 9\n",
      "the key is 4 the value is 16\n",
      "the key is 5 the value is 25\n",
      "the key is 6 the value is 36\n",
      "the key is 7 the value is 49\n",
      "the key is 8 the value is 64\n",
      "the key is 9 the value is 81\n",
      "the key is 10 the value is 100\n",
      "the key is 11 the value is 121\n",
      "the key is 2, the value is 4\n",
      "the key is 3, the value is 9\n",
      "the key is 4, the value is 16\n",
      "the key is 5, the value is 25\n",
      "the key is 6, the value is 36\n",
      "the key is 7, the value is 49\n",
      "the key is 8, the value is 64\n",
      "the key is 9, the value is 81\n",
      "the key is 10, the value is 100\n",
      "the key is 11, the value is 121\n"
     ]
    }
   ],
   "source": [
    "for i in d1:\n",
    "    print(f\"the key is {i} the value is {d1[i]}\")\n",
    "\n",
    "for key , value in d1.items():\n",
    "    print(f\"the key is {key}, the value is {value}\")"
   ]
  },
  {
   "cell_type": "markdown",
   "id": "0a73db81",
   "metadata": {},
   "source": [
    "\n",
    "### Assignment 5: Dictionary Comprehensions\n",
    "\n",
    "Create a new dictionary containing the cubes of the first 10 positive integers using a dictionary comprehension. Print the new dictionary.\n"
   ]
  },
  {
   "cell_type": "code",
   "execution_count": null,
   "id": "a9570d74",
   "metadata": {},
   "outputs": [
    {
     "name": "stdout",
     "output_type": "stream",
     "text": [
      "{1: 1, 2: 8, 3: 27, 4: 64, 5: 125, 6: 216, 7: 343, 8: 512, 9: 729, 10: 1000, 11: 1331}\n",
      "{1: 1, 2: 8, 3: 27, 4: 64, 5: 125, 6: 216, 7: 343, 8: 512, 9: 729}\n"
     ]
    }
   ],
   "source": [
    "d2 = dict({i:i**3 for i in range(1,12)})\n",
    "print(d2)\n",
    "d3 = {i:i**3 for i in range(1,11)}\n",
    "print(d3)"
   ]
  },
  {
   "cell_type": "markdown",
   "id": "57a50044",
   "metadata": {},
   "source": [
    "\n",
    "### Assignment 6: Merging Dictionaries\n",
    "\n",
    "Create two dictionaries: one with keys as the first 5 positive integers and values as their squares, and another with keys as the next 5 positive integers and values as their squares. Merge these dictionaries into a single dictionary and print it.\n"
   ]
  },
  {
   "cell_type": "code",
   "execution_count": null,
   "id": "b277fe63",
   "metadata": {},
   "outputs": [],
   "source": []
  },
  {
   "cell_type": "markdown",
   "id": "bee91672",
   "metadata": {},
   "source": [
    "\n",
    "### Assignment 7: Nested Dictionaries\n",
    "\n",
    "Create a nested dictionary representing a student with keys 'name', 'age', 'grades', where 'grades' is another dictionary with keys 'math', 'science', and 'english'. Print the nested dictionary.\n"
   ]
  },
  {
   "cell_type": "code",
   "execution_count": null,
   "id": "c306e5ed",
   "metadata": {},
   "outputs": [],
   "source": []
  },
  {
   "cell_type": "markdown",
   "id": "651784a2",
   "metadata": {},
   "source": [
    "\n",
    "### Assignment 8: Dictionary of Lists\n",
    "\n",
    "Create a dictionary where the keys are the first 5 positive integers and the values are lists containing the first 5 multiples of the key. Print the dictionary.\n"
   ]
  },
  {
   "cell_type": "code",
   "execution_count": null,
   "id": "1a4362e7",
   "metadata": {},
   "outputs": [],
   "source": []
  },
  {
   "cell_type": "markdown",
   "id": "e17f1057",
   "metadata": {},
   "source": [
    "\n",
    "### Assignment 9: Dictionary of Tuples\n",
    "\n",
    "Create a dictionary where the keys are the first 5 positive integers and the values are tuples containing the key and its square. Print the dictionary.\n"
   ]
  },
  {
   "cell_type": "code",
   "execution_count": null,
   "id": "ccd2c81e",
   "metadata": {},
   "outputs": [],
   "source": []
  },
  {
   "cell_type": "markdown",
   "id": "8189108b",
   "metadata": {},
   "source": [
    "\n",
    "### Assignment 10: Dictionary and List Conversion\n",
    "\n",
    "Create a dictionary with the first 5 positive integers as keys and their squares as values. Convert the dictionary to a list of tuples and print it.\n"
   ]
  },
  {
   "cell_type": "code",
   "execution_count": null,
   "id": "85c836b0",
   "metadata": {},
   "outputs": [],
   "source": []
  },
  {
   "cell_type": "markdown",
   "id": "6cd6887d",
   "metadata": {},
   "source": [
    "\n",
    "### Assignment 11: Dictionary Filtering\n",
    "\n",
    "Create a dictionary with the first 10 positive integers as keys and their squares as values. Create a new dictionary containing only the key-value pairs where the key is even. Print the new dictionary.\n"
   ]
  },
  {
   "cell_type": "code",
   "execution_count": null,
   "id": "75132d78",
   "metadata": {},
   "outputs": [],
   "source": []
  },
  {
   "cell_type": "markdown",
   "id": "bb43083c",
   "metadata": {},
   "source": [
    "\n",
    "### Assignment 12: Dictionary Key and Value Transformation\n",
    "\n",
    "Create a dictionary with the first 5 positive integers as keys and their squares as values. Create a new dictionary with keys and values swapped. Print the new dictionary.\n"
   ]
  },
  {
   "cell_type": "code",
   "execution_count": null,
   "id": "cfba16c0",
   "metadata": {},
   "outputs": [],
   "source": []
  },
  {
   "cell_type": "markdown",
   "id": "9fac1939",
   "metadata": {},
   "source": [
    "\n",
    "### Assignment 13: Default Dictionary\n",
    "\n",
    "Create a default dictionary where each key has a default value of an empty list. Add some elements to the lists and print the dictionary.\n"
   ]
  },
  {
   "cell_type": "code",
   "execution_count": null,
   "id": "edd815bc",
   "metadata": {},
   "outputs": [],
   "source": []
  },
  {
   "cell_type": "markdown",
   "id": "d0865183",
   "metadata": {},
   "source": [
    "\n",
    "### Assignment 14: Counting with Dictionaries\n",
    "\n",
    "Write a function that takes a string and returns a dictionary with the count of each character in the string. Print the dictionary.\n"
   ]
  },
  {
   "cell_type": "code",
   "execution_count": null,
   "id": "a4dd24d0",
   "metadata": {},
   "outputs": [],
   "source": []
  },
  {
   "cell_type": "markdown",
   "id": "603a228c",
   "metadata": {},
   "source": [
    "\n",
    "### Assignment 15: Dictionary and JSON\n",
    "\n",
    "Create a dictionary representing a book with keys 'title', 'author', 'year', and 'genre'. Convert the dictionary to a JSON string and print it."
   ]
  },
  {
   "cell_type": "markdown",
   "id": "8ace67bf",
   "metadata": {},
   "source": []
  }
 ],
 "metadata": {
  "kernelspec": {
   "display_name": "Python 3",
   "language": "python",
   "name": "python3"
  },
  "language_info": {
   "codemirror_mode": {
    "name": "ipython",
    "version": 3
   },
   "file_extension": ".py",
   "mimetype": "text/x-python",
   "name": "python",
   "nbconvert_exporter": "python",
   "pygments_lexer": "ipython3",
   "version": "3.12.0"
  }
 },
 "nbformat": 4,
 "nbformat_minor": 5
}
