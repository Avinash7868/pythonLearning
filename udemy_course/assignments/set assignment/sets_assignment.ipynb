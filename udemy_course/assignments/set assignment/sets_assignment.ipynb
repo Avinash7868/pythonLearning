{
 "cells": [
  {
   "cell_type": "markdown",
   "metadata": {},
   "source": [
    "# Module 3: Data Structures Assignments\n",
    "## Lesson 3.3: Sets\n",
    "### Assignment 1: Creating and Accessing Sets\n",
    "\n",
    "Create a set with the first 10 positive integers. Print the set.\n"
   ]
  },
  {
   "cell_type": "code",
   "execution_count": 34,
   "id": "d06df183",
   "metadata": {},
   "outputs": [
    {
     "name": "stdout",
     "output_type": "stream",
     "text": [
      "{1, 2, 3, 4, 5, 6, 7, 8, 9, 10}\n"
     ]
    }
   ],
   "source": [
    "s1 = set(range(1,11))\n",
    "print(s1)\n",
    "s44 = set(range(1,11))"
   ]
  },
  {
   "cell_type": "markdown",
   "id": "291fc072",
   "metadata": {},
   "source": [
    "\n",
    "### Assignment 2: Adding and Removing Elements\n",
    "\n",
    "Add the number 11 to the set created in Assignment 1. Then remove the number 1 from the set. Print the modified set.\n"
   ]
  },
  {
   "cell_type": "code",
   "execution_count": null,
   "id": "53aeb70c",
   "metadata": {},
   "outputs": [
    {
     "name": "stdout",
     "output_type": "stream",
     "text": [
      "{2, 3, 4, 5, 6, 7, 8, 9, 10, 11}\n",
      "{2, 3, 4, 5, 6, 7, 8, 9, 10, 11}\n"
     ]
    }
   ],
   "source": [
    "s1.add(11)\n",
    "print(s1)\n",
    "s1.remove(1)\n",
    "print(s1)"
   ]
  },
  {
   "cell_type": "markdown",
   "id": "bba57c0f",
   "metadata": {},
   "source": [
    "\n",
    "### Assignment 3: Set Operations\n",
    "\n",
    "Create two sets: one with the first 5 positive integers and another with the first 5 even integers. Perform and print the results of union, intersection, difference, and symmetric difference operations on these sets.\n"
   ]
  },
  {
   "cell_type": "code",
   "execution_count": 29,
   "id": "0cff2612",
   "metadata": {},
   "outputs": [
    {
     "name": "stdout",
     "output_type": "stream",
     "text": [
      "first set {1, 2, 3, 4, 5} , second set {2, 4, 6, 8, 10}\n",
      "union of set f{1, 2, 3, 4, 5, 6, 8, 10}\n",
      "intersection of set {2, 4}\n",
      "differnce in set f{1, 3, 5}\n",
      "symmetric differnce in set is {1, 3, 5, 6, 8, 10}\n",
      "\n",
      "Union: {1, 2, 3, 4, 5, 6, 8, 10}\n",
      "Intersection: {2, 4}\n",
      "Difference (set1 - set2): {1, 3, 5}\n",
      "Symmetric Difference: {1, 3, 5, 6, 8, 10}\n"
     ]
    }
   ],
   "source": [
    "s1 = set(range(1,6))\n",
    "s2 = set(x for x in range(1,12) if x % 2 == 0)\n",
    "print(f\"first set {s1} , second set {s2}\")\n",
    "print(f\"union of set f{s1.union(s2)}\")\n",
    "print(f\"intersection of set {s1.intersection(s2)}\")\n",
    "print(f'differnce in set f{s1.difference(s2)}')\n",
    "print(f\"symmetric differnce in set is {s1.symmetric_difference(s2)}\")\n",
    "\n",
    "\n",
    "set1 = set(range(1, 6))\n",
    "set2 = set(range(2, 11, 2))\n",
    "print(f\"\\nUnion: {set1 | set2}\")\n",
    "print(f\"Intersection: {set1 & set2}\")\n",
    "print(f\"Difference (set1 - set2): {set1 - set2}\")\n",
    "print(f\"Symmetric Difference: {set1 ^ set2}\")\n"
   ]
  },
  {
   "cell_type": "markdown",
   "id": "4b1a78a6",
   "metadata": {},
   "source": [
    "\n",
    "### Assignment 4: Set Comprehensions\n",
    "\n",
    "Create a new set containing the squares of the first 10 positive integers using a set comprehension. Print the new set.\n"
   ]
  },
  {
   "cell_type": "code",
   "execution_count": 27,
   "id": "946adee2",
   "metadata": {},
   "outputs": [
    {
     "name": "stdout",
     "output_type": "stream",
     "text": [
      "{64, 1, 4, 36, 100, 9, 16, 49, 81, 25}\n"
     ]
    }
   ],
   "source": [
    "s1 = set(i**2 for i in range(1,11))\n",
    "print(s1)\n"
   ]
  },
  {
   "cell_type": "markdown",
   "id": "3a6c6263",
   "metadata": {},
   "source": [
    "\n",
    "### Assignment 5: Filtering Sets\n",
    "\n",
    "Create a new set containing only the even numbers from the set created in Assignment 1 using a set comprehension. Print the new set.\n"
   ]
  },
  {
   "cell_type": "code",
   "execution_count": 36,
   "id": "a5b9c712",
   "metadata": {},
   "outputs": [
    {
     "name": "stdout",
     "output_type": "stream",
     "text": [
      "{2, 4, 6, 8, 10}\n"
     ]
    }
   ],
   "source": [
    "s2 = set(x for x in s44 if x % 2 == 0)\n",
    "print(s2)"
   ]
  },
  {
   "cell_type": "markdown",
   "id": "3606b2b0",
   "metadata": {},
   "source": [
    "\n",
    "### Assignment 6: Set Methods\n",
    "\n",
    "Create a set with duplicate elements and remove the duplicates using set methods. Print the modified set.\n"
   ]
  },
  {
   "cell_type": "code",
   "execution_count": null,
   "id": "166f6305",
   "metadata": {},
   "outputs": [
    {
     "name": "stdout",
     "output_type": "stream",
     "text": [
      "{1, 2, 3, 4}\n"
     ]
    }
   ],
   "source": [
    "se1 = {1,3,4,4,4,2,2,}\n",
    "print(se1) \n",
    "# Both works\n",
    "s = {1, 2, 2, 3, 4, 4, 5}\n",
    "unique_s = set(s)\n",
    "print(unique_s)"
   ]
  },
  {
   "cell_type": "markdown",
   "id": "974be6ef",
   "metadata": {},
   "source": [
    "\n",
    "### Assignment 7: Subsets and Supersets\n",
    "\n",
    "Create two sets: one with the first 5 positive integers and another with the first 3 positive integers. Check if the second set is a subset of the first set and if the first set is a superset of the second set. Print the results.\n"
   ]
  },
  {
   "cell_type": "code",
   "execution_count": 40,
   "id": "f3704a99",
   "metadata": {},
   "outputs": [
    {
     "name": "stdout",
     "output_type": "stream",
     "text": [
      "is set 2 subset of set 1 True\n",
      "is set 1 a superset of set 2 True\n"
     ]
    }
   ],
   "source": [
    "s1 = {1,2,3,4,5}\n",
    "s2 = {1,2,3}\n",
    "print(f'is set 2 subset of set 1 {s2.issubset(s1)}')\n",
    "print(f\"is set 1 a superset of set 2 {s1.issuperset(s2)}\")"
   ]
  },
  {
   "cell_type": "markdown",
   "id": "664b5d7c",
   "metadata": {},
   "source": [
    "\n",
    "### Assignment 8: Frozenset\n",
    "\n",
    "Create a frozenset with the first 5 positive integers. Print the frozenset.\n"
   ]
  },
  {
   "cell_type": "code",
   "execution_count": 43,
   "id": "d8da41ef",
   "metadata": {},
   "outputs": [
    {
     "name": "stdout",
     "output_type": "stream",
     "text": [
      "frozenset({1, 2, 3, 4, 5})\n",
      "frozenset({1, 2, 3, 4, 5})\n"
     ]
    }
   ],
   "source": [
    "s1 = frozenset({1,2,3,4,5})\n",
    "print(s1)\n",
    "\n",
    "fs = frozenset(range(1, 6))\n",
    "print(fs)"
   ]
  },
  {
   "cell_type": "markdown",
   "id": "686ed5a3",
   "metadata": {},
   "source": [
    "\n",
    "### Assignment 9: Set and List Conversion\n",
    "\n",
    "Create a set with the first 5 positive integers. Convert it to a list, append the number 6, and convert it back to a set. Print the resulting set.\n"
   ]
  },
  {
   "cell_type": "code",
   "execution_count": 46,
   "id": "d384eb54",
   "metadata": {},
   "outputs": [
    {
     "name": "stdout",
     "output_type": "stream",
     "text": [
      "before set {1, 2, 3, 4, 5}\n",
      "after set {1, 2, 3, 4, 5, 6}\n"
     ]
    }
   ],
   "source": [
    "s1 = set(range(1,6))\n",
    "print(f'before set {s1}')\n",
    "l1 = list(s1)\n",
    "l1.append(6)\n",
    "s1 = set(l1)\n",
    "print(\"after set\",s1)"
   ]
  },
  {
   "cell_type": "markdown",
   "id": "7c42f7ac",
   "metadata": {},
   "source": [
    "\n",
    "### Assignment 10: Set and Dictionary\n",
    "\n",
    "Create a dictionary with set keys and integer values. Print the dictionary.\n"
   ]
  },
  {
   "cell_type": "code",
   "execution_count": 53,
   "id": "bf2f2645",
   "metadata": {},
   "outputs": [
    {
     "name": "stdout",
     "output_type": "stream",
     "text": [
      "{frozenset({1, 2}): 3, frozenset({3, 4}): 7, frozenset({5, 6}): 11}\n",
      "3\n"
     ]
    }
   ],
   "source": [
    "s1_dict = {\n",
    "    frozenset({1, 2}): 3,\n",
    "    frozenset({3, 4}): 7,\n",
    "    frozenset({5, 6}): 11\n",
    "}\n",
    "print(s1_dict)\n",
    "print(s1_dict[frozenset({1, 2})])"
   ]
  },
  {
   "cell_type": "markdown",
   "id": "7af9e8a9",
   "metadata": {},
   "source": [
    "\n",
    "### Assignment 11: Iterating Over Sets\n",
    "\n",
    "Create a set and iterate over the elements, printing each element.\n"
   ]
  },
  {
   "cell_type": "code",
   "execution_count": 55,
   "id": "3cef9238",
   "metadata": {},
   "outputs": [
    {
     "name": "stdout",
     "output_type": "stream",
     "text": [
      "original set  {72, 9, 11, 46, 80, 18, 20, 85, 92, 29}\n",
      "72\n",
      "9\n",
      "11\n",
      "46\n",
      "80\n",
      "18\n",
      "20\n",
      "85\n",
      "92\n",
      "29\n"
     ]
    }
   ],
   "source": [
    "from random import randint\n",
    "s1 =set(randint(1,99) for _ in range(1,11))\n",
    "print('original set ',s1)\n",
    "for x in s1:\n",
    "    print(x)"
   ]
  },
  {
   "cell_type": "markdown",
   "id": "16ae7a4e",
   "metadata": {},
   "source": [
    "\n",
    "### Assignment 12: Removing Elements from Sets\n",
    "\n",
    "Create a set and remove elements from it until it is empty. Print the set after each removal.\n"
   ]
  },
  {
   "cell_type": "code",
   "execution_count": 62,
   "id": "fcedb1a9",
   "metadata": {},
   "outputs": [
    {
     "name": "stdout",
     "output_type": "stream",
     "text": [
      "set()\n",
      "0\n",
      "{2, 3, 4, 5}\n",
      "{3, 4, 5}\n",
      "{4, 5}\n",
      "{5}\n",
      "set()\n"
     ]
    }
   ],
   "source": [
    "print(s1)\n",
    "print(len(s1))\n",
    "# while len(s1) >= 0 :\n",
    "#     s1.pop()\n",
    "#     print(s1)\n",
    "\n",
    "s = set(range(1, 6))\n",
    "while s:\n",
    "    s.pop()\n",
    "    print(s)\n"
   ]
  },
  {
   "cell_type": "markdown",
   "id": "504ca115",
   "metadata": {},
   "source": [
    "\n",
    "### Assignment 13: Set Symmetric Difference Update\n",
    "\n",
    "Create two sets and update the first set with the symmetric difference of the two sets. Print the modified first set.\n"
   ]
  },
  {
   "cell_type": "code",
   "execution_count": 65,
   "id": "525ba882",
   "metadata": {},
   "outputs": [
    {
     "name": "stdout",
     "output_type": "stream",
     "text": [
      "set1 {1, 2, 3, 4, 5, 6, 7, 8, 9, 10}, set2 {1, 2, 3, 4, 5, 6, 7, 8, 9, 10, 11, 12, 13, 14, 15, 16, 17, 18, 19, 20}\n",
      "{11, 12, 13, 14, 15, 16, 17, 18, 19, 20}\n",
      "{1, 2, 4, 5}\n"
     ]
    }
   ],
   "source": [
    "s1 = set(range(1,11))\n",
    "s2 = set(range(1,21))\n",
    "print(f'set1 {s1}, set2 {s2}')\n",
    "s1.symmetric_difference_update(s2)\n",
    "print(s1)\n",
    "\n",
    "set1 = {1, 2, 3}\n",
    "set2 = {3, 4, 5}\n",
    "set1.symmetric_difference_update(set2)\n",
    "print(set1)"
   ]
  },
  {
   "cell_type": "markdown",
   "id": "46700267",
   "metadata": {},
   "source": [
    "\n",
    "### Assignment 14: Set Membership Testing\n",
    "\n",
    "Create a set and test if certain elements are present in the set. Print the results.\n"
   ]
  },
  {
   "cell_type": "code",
   "execution_count": 68,
   "id": "ca4f6dcf",
   "metadata": {},
   "outputs": [
    {
     "name": "stdout",
     "output_type": "stream",
     "text": [
      "{1, 2, 3, 4, 5, 6, 7, 8, 9, 10}\n",
      "True\n",
      "False\n"
     ]
    }
   ],
   "source": [
    "s1 = set(range(1,11))\n",
    "print(s1)\n",
    "print(3 in s1)\n",
    "print(11 in s1)"
   ]
  },
  {
   "cell_type": "markdown",
   "id": "10ab8b71",
   "metadata": {},
   "source": [
    "\n",
    "### Assignment 15: Set of Tuples\n",
    "\n",
    "Create a set containing tuples, where each tuple contains two elements. Print the set."
   ]
  },
  {
   "cell_type": "code",
   "execution_count": 70,
   "id": "4440057d",
   "metadata": {},
   "outputs": [
    {
     "name": "stdout",
     "output_type": "stream",
     "text": [
      "{(2, 3), (1, 2), (3, 4)}\n"
     ]
    }
   ],
   "source": [
    "s1 = {\n",
    "    (1,2),\n",
    "    (2,3),\n",
    "    (3,4)\n",
    "}\n",
    "print(s1)"
   ]
  }
 ],
 "metadata": {
  "kernelspec": {
   "display_name": "Python 3",
   "language": "python",
   "name": "python3"
  },
  "language_info": {
   "codemirror_mode": {
    "name": "ipython",
    "version": 3
   },
   "file_extension": ".py",
   "mimetype": "text/x-python",
   "name": "python",
   "nbconvert_exporter": "python",
   "pygments_lexer": "ipython3",
   "version": "3.12.0"
  }
 },
 "nbformat": 4,
 "nbformat_minor": 5
}
