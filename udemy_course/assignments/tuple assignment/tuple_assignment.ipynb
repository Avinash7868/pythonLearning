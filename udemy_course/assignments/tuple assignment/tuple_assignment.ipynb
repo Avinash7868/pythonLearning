{
 "cells": [
  {
   "cell_type": "markdown",
   "id": "6cade624",
   "metadata": {},
   "source": [
    "# Module 3: Data Structures Assignments\n",
    "## Lesson 3.2: Tuples\n",
    "### Assignment 1: Creating and Accessing Tuples\n",
    "\n",
    "Create a tuple with the first 10 positive integers. Print the tuple.\n"
   ]
  },
  {
   "cell_type": "code",
   "execution_count": 2,
   "id": "e8f00c22",
   "metadata": {},
   "outputs": [
    {
     "name": "stdout",
     "output_type": "stream",
     "text": [
      "(1, 2, 3, 4, 5, 6, 7, 8, 9, 10)\n"
     ]
    }
   ],
   "source": [
    "t1 = tuple(range(1,11))\n",
    "print(t1)"
   ]
  },
  {
   "cell_type": "markdown",
   "id": "5d9f868e",
   "metadata": {},
   "source": [
    "\n",
    "### Assignment 2: Accessing Tuple Elements\n",
    "\n",
    "Print the first, middle, and last elements of the tuple created in Assignment 1.\n"
   ]
  },
  {
   "cell_type": "code",
   "execution_count": null,
   "id": "ea4a8a0e",
   "metadata": {},
   "outputs": [
    {
     "name": "stdout",
     "output_type": "stream",
     "text": [
      "1\n",
      "6\n",
      "10\n"
     ]
    }
   ],
   "source": [
    "print(t1[0])\n",
    "print(t1[len(t1) // 2])\n",
    "print(t1[len(t1) - 1])"
   ]
  },
  {
   "cell_type": "markdown",
   "id": "007afc7b",
   "metadata": {},
   "source": [
    "\n",
    "### Assignment 3: Tuple Slicing\n",
    "\n",
    "Print the first three elements, the last three elements, and the elements from index 2 to 5 of the tuple created in Assignment 1.\n"
   ]
  },
  {
   "cell_type": "code",
   "execution_count": null,
   "id": "ac2aa2e6",
   "metadata": {},
   "outputs": [
    {
     "name": "stdout",
     "output_type": "stream",
     "text": [
      "(1, 2, 3)\n",
      "(8, 9, 10)\n",
      "(3, 4, 5, 6)\n"
     ]
    }
   ],
   "source": [
    "print(t1[0:3])\n",
    "print(t1[-3:])\n",
    "print(t1[2:6])\n"
   ]
  },
  {
   "cell_type": "markdown",
   "id": "e6867a95",
   "metadata": {},
   "source": [
    "\n",
    "### Assignment 4: Nested Tuples\n",
    "\n",
    "Create a nested tuple representing a 3x3 matrix and print the matrix. Access and print the element at the second row and third column.\n"
   ]
  },
  {
   "cell_type": "code",
   "execution_count": 11,
   "id": "d1f06e76",
   "metadata": {},
   "outputs": [
    {
     "name": "stdout",
     "output_type": "stream",
     "text": [
      "(1, 2, 3)\n",
      "(4, 5, 6)\n",
      "(7, 8, 9)\n",
      "6\n"
     ]
    }
   ],
   "source": [
    "t2=(\n",
    "    (1,2,3),\n",
    "    (4,5,6),\n",
    "    (7,8,9)\n",
    ")\n",
    "\n",
    "for row in t2:\n",
    "    print(row)\n",
    "\n",
    "print(t2[1][2])"
   ]
  },
  {
   "cell_type": "markdown",
   "id": "c7c7f18d",
   "metadata": {},
   "source": [
    "\n",
    "### Assignment 5: Tuple Concatenation\n",
    "\n",
    "Concatenate two tuples: (1, 2, 3) and (4, 5, 6). Print the resulting tuple.\n"
   ]
  },
  {
   "cell_type": "code",
   "execution_count": 12,
   "id": "2ebcf735",
   "metadata": {},
   "outputs": [
    {
     "name": "stdout",
     "output_type": "stream",
     "text": [
      "(1, 2, 3, 3, 4, 5)\n"
     ]
    }
   ],
   "source": [
    "t1 = (1,2,3)\n",
    "t2=(3,4,5)\n",
    "concat_tuple = t1 +  t2\n",
    "print(concat_tuple)"
   ]
  },
  {
   "cell_type": "markdown",
   "id": "8748bae3",
   "metadata": {},
   "source": [
    "\n",
    "### Assignment 6: Tuple Methods\n",
    "\n",
    "Create a tuple with duplicate elements and count the occurrences of an element. Find the index of the first occurrence of an element in the tuple.\n"
   ]
  },
  {
   "cell_type": "code",
   "execution_count": null,
   "id": "ea7db9d3",
   "metadata": {},
   "outputs": [
    {
     "name": "stdout",
     "output_type": "stream",
     "text": [
      "(6, 1, 3, 11, 18, 17, 9, 7, 4, 12, 14, 21, 15, 9, 7, 19, 8, 11, 4, 9)\n",
      "occurence count  3\n",
      "index of the first element 6\n"
     ]
    }
   ],
   "source": [
    "import random\n",
    "t1 = tuple(random.randint(1,21) for _ in range(1,21))\n",
    "print(t1)\n",
    "\n",
    "print(\"occurence count \",t1.count(9))\n",
    "print(\"index of the first element\",t1.index(9))\n",
    "\n"
   ]
  },
  {
   "cell_type": "markdown",
   "id": "4afa85fc",
   "metadata": {},
   "source": [
    "\n",
    "### Assignment 7: Unpacking Tuples\n",
    "\n",
    "Create a tuple with 5 elements and unpack it into 5 variables. Print the variables.\n"
   ]
  },
  {
   "cell_type": "code",
   "execution_count": null,
   "id": "5406ad92",
   "metadata": {},
   "outputs": [
    {
     "name": "stdout",
     "output_type": "stream",
     "text": [
      "1 2 3\n"
     ]
    }
   ],
   "source": [
    "t1 = (1,2,3,4,5)\n",
    "a,b,c,d,e = t1\n",
    "print(a,b,c,d,e)"
   ]
  },
  {
   "cell_type": "markdown",
   "id": "21e78333",
   "metadata": {},
   "source": [
    "\n",
    "### Assignment 8: Tuple Conversion\n",
    "\n",
    "Convert a list of the first 5 positive integers to a tuple. Print the tuple.\n"
   ]
  },
  {
   "cell_type": "code",
   "execution_count": 29,
   "id": "9596e23e",
   "metadata": {},
   "outputs": [
    {
     "name": "stdout",
     "output_type": "stream",
     "text": [
      "list [1, 2, 3, 4, 5, 6, 7, 8, 9]\n",
      "(1, 2, 3, 4, 5, 6, 7, 8, 9)\n"
     ]
    }
   ],
   "source": [
    "l1 = list(range(1,10))\n",
    "print(\"list\",l1)\n",
    "t1 = tuple(l1)\n",
    "print(t1)"
   ]
  },
  {
   "cell_type": "markdown",
   "id": "7ea0fd01",
   "metadata": {},
   "source": [
    "\n",
    "### Assignment 9: Tuple of Tuples\n",
    "\n",
    "Create a tuple containing 3 tuples, each with 3 elements. Print the tuple of tuples.\n"
   ]
  },
  {
   "cell_type": "code",
   "execution_count": 30,
   "id": "7e223baa",
   "metadata": {},
   "outputs": [
    {
     "name": "stdout",
     "output_type": "stream",
     "text": [
      "(1, 2, 3)\n",
      "(4, 5, 6)\n",
      "(6, 7, 8)\n"
     ]
    }
   ],
   "source": [
    "t1 = (\n",
    "    (1,2,3),\n",
    "    (4,5,6),\n",
    "    (6,7,8)\n",
    ")\n",
    "\n",
    "for row in t1:\n",
    "    print(row)"
   ]
  },
  {
   "cell_type": "markdown",
   "id": "234a7b6a",
   "metadata": {},
   "source": [
    "\n",
    "### Assignment 10: Tuple and List\n",
    "\n",
    "Create a tuple with the first 5 positive integers. Convert it to a list, append the number 6, and convert it back to a tuple. Print the resulting tuple.\n"
   ]
  },
  {
   "cell_type": "code",
   "execution_count": 32,
   "id": "150f9c50",
   "metadata": {},
   "outputs": [
    {
     "name": "stdout",
     "output_type": "stream",
     "text": [
      "originl tuple (1, 2, 3, 4, 5, 6)\n",
      "updated list [1, 2, 3, 4, 5, 6, 9]\n",
      "updated tuple (1, 2, 3, 4, 5, 6, 9)\n"
     ]
    }
   ],
   "source": [
    "t1 = tuple(range(1,7))\n",
    "print(f\"originl tuple {t1}\")\n",
    "\n",
    "l1 = list(t1)\n",
    "l1.append(9)\n",
    "print(f\"updated list {l1}\")\n",
    "t1 = tuple(l1)\n",
    "print(f\"updated tuple {t1}\")"
   ]
  },
  {
   "cell_type": "markdown",
   "id": "b7b9beb5",
   "metadata": {},
   "source": [
    "\n",
    "### Assignment 11: Tuple and String\n",
    "\n",
    "Create a tuple with the characters of a string. Join the tuple elements into a single string. Print the string.\n"
   ]
  },
  {
   "cell_type": "code",
   "execution_count": 36,
   "id": "4730fdb7",
   "metadata": {},
   "outputs": [
    {
     "name": "stdout",
     "output_type": "stream",
     "text": [
      "('A', 'v', 'i', 'n', 'a', 's', 'h')\n",
      "Avinash\n"
     ]
    }
   ],
   "source": [
    "string = \"Avinash\"\n",
    "t1 = tuple(string)\n",
    "print(t1)\n",
    "joined_string = \"\".join(t1)\n",
    "print(joined_string)"
   ]
  },
  {
   "cell_type": "markdown",
   "id": "bd90b03a",
   "metadata": {},
   "source": [
    "\n",
    "### Assignment 12: Tuple and Dictionary\n",
    "\n",
    "Create a dictionary with tuple keys and integer values. Print the dictionary.\n"
   ]
  },
  {
   "cell_type": "code",
   "execution_count": 39,
   "id": "09f66710",
   "metadata": {},
   "outputs": [
    {
     "name": "stdout",
     "output_type": "stream",
     "text": [
      "{('hello', 'Wllo'): 322, (1, 2): 32232, (4, 6): 'ne2'}\n",
      "{(1, 2): 3, (4, 5): 6, (7, 8): 9}\n"
     ]
    }
   ],
   "source": [
    "d1 = {\n",
    "    (\"hello\",\"Wllo\"):322,\n",
    "    (1,2):32232,\n",
    "    (4,6):\"ne2\"\n",
    "}\n",
    "print(d1)\n",
    "\n",
    "tpl_dict = {\n",
    "    (1, 2): 3,\n",
    "    (4, 5): 6,\n",
    "    (7, 8): 9\n",
    "}\n",
    "print(tpl_dict)"
   ]
  },
  {
   "cell_type": "markdown",
   "id": "ef4ee5d1",
   "metadata": {},
   "source": [
    "\n",
    "### Assignment 13: Nested Tuple Iteration\n",
    "\n",
    "Create a nested tuple and iterate over the elements, printing each element.\n"
   ]
  },
  {
   "cell_type": "code",
   "execution_count": 47,
   "id": "3f5e1d06",
   "metadata": {},
   "outputs": [
    {
     "name": "stdout",
     "output_type": "stream",
     "text": [
      "1\n",
      "2\n",
      "3\n",
      "4\n",
      "5\n",
      "6\n",
      "7\n",
      "8\n",
      "9\n",
      "1\n"
     ]
    }
   ],
   "source": [
    "nested_tpl = (\n",
    "    (1, 2, 3),\n",
    "    (4, 5, 6),\n",
    "    (7, 8, 9),\n",
    "    1,\n",
    ")\n",
    "\n",
    "for row in nested_tpl:\n",
    "    if isinstance(row,tuple):\n",
    "        for elem in row:\n",
    "            print(elem)\n",
    "    else:\n",
    "        print(row)"
   ]
  },
  {
   "cell_type": "markdown",
   "id": "dc8cce60",
   "metadata": {},
   "source": [
    "\n",
    "### Assignment 14: Tuple and Set\n",
    "\n",
    "Create a tuple with duplicate elements. Convert it to a set to remove duplicates and print the resulting set.\n"
   ]
  },
  {
   "cell_type": "code",
   "execution_count": 50,
   "id": "cb4613c6",
   "metadata": {},
   "outputs": [
    {
     "name": "stdout",
     "output_type": "stream",
     "text": [
      "original tuple (1, 1, 2, 17, 2, 21, 20, 21, 9, 2, 3, 9, 18, 11, 12, 16, 20, 6, 20, 5)\n",
      "{1, 2, 3, 5, 6, 9, 11, 12, 16, 17, 18, 20, 21}\n"
     ]
    }
   ],
   "source": [
    "from random import randint\n",
    "t1= tuple(randint(1,21) for _ in range(1,21))\n",
    "print(\"original tuple\",t1)\n",
    "s1 = set(t1)\n",
    "print(s1)"
   ]
  },
  {
   "cell_type": "markdown",
   "id": "b6717e3d",
   "metadata": {},
   "source": [
    "\n",
    "### Assignment 15: Tuple Functions\n",
    "\n",
    "Write functions that take a tuple and return the minimum, maximum, and sum of the elements. Print the results for a sample tuple."
   ]
  },
  {
   "cell_type": "code",
   "execution_count": 56,
   "id": "afdd2ec2",
   "metadata": {},
   "outputs": [
    {
     "name": "stdout",
     "output_type": "stream",
     "text": [
      "Minimum: 3\n",
      "Maximum: 21\n",
      "Sum: 281\n"
     ]
    }
   ],
   "source": [
    "from random import randint\n",
    "def min_in_tuple(tpl):\n",
    "    return min(tpl)\n",
    "\n",
    "def max_in_tuple(tpl):\n",
    "    return max(tpl)\n",
    "\n",
    "def sum_of_tuple(tpl):\n",
    "    return sum(tpl)\n",
    " \n",
    "sample_tpl = tuple(randint(1,21) for _ in range(1,21))\n",
    "print(f\"Minimum: {min_in_tuple(sample_tpl)}\")\n",
    "print(f\"Maximum: {max_in_tuple(sample_tpl)}\")\n",
    "print(f\"Sum: {sum_of_tuple(sample_tpl)}\")"
   ]
  }
 ],
 "metadata": {
  "kernelspec": {
   "display_name": "Python 3",
   "language": "python",
   "name": "python3"
  },
  "language_info": {
   "codemirror_mode": {
    "name": "ipython",
    "version": 3
   },
   "file_extension": ".py",
   "mimetype": "text/x-python",
   "name": "python",
   "nbconvert_exporter": "python",
   "pygments_lexer": "ipython3",
   "version": "3.12.0"
  }
 },
 "nbformat": 4,
 "nbformat_minor": 5
}
